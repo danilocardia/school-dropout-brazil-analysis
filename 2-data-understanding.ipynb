{
 "metadata": {
  "language_info": {
   "codemirror_mode": {
    "name": "ipython",
    "version": 3
   },
   "file_extension": ".py",
   "mimetype": "text/x-python",
   "name": "python",
   "nbconvert_exporter": "python",
   "pygments_lexer": "ipython3",
   "version": "3.8.5-final"
  },
  "orig_nbformat": 2,
  "kernelspec": {
   "name": "python3",
   "display_name": "Python 3",
   "language": "python"
  }
 },
 "nbformat": 4,
 "nbformat_minor": 2,
 "cells": [
  {
   "source": [
    "Importing dependencies"
   ],
   "cell_type": "markdown",
   "metadata": {}
  },
  {
   "cell_type": "code",
   "execution_count": 8,
   "metadata": {},
   "outputs": [],
   "source": [
    "import numpy as np\n",
    "import pandas as pd\n",
    "import matplotlib.pyplot as plt\n",
    "import seaborn as sns\n",
    "%matplotlib inline"
   ]
  },
  {
   "source": [
    "Loading a file and renaming columns for better readability"
   ],
   "cell_type": "markdown",
   "metadata": {}
  },
  {
   "cell_type": "code",
   "execution_count": 9,
   "metadata": {},
   "outputs": [
    {
     "output_type": "execute_result",
     "data": {
      "text/plain": [
       "                     city1         state1             city2  state2    age  \\\n",
       "0  NO_MUNICIPIO_RESIDENCIA  UF_RESIDENCIA  NO_MUNICIPIO_ESC  UF_ESC  IDADE   \n",
       "1               RIO BRANCO             AC               NaN     NaN     26   \n",
       "2               RIO BRANCO             AC               NaN     NaN     29   \n",
       "3               RIO BRANCO             AC               NaN     NaN     27   \n",
       "4          CRUZEIRO DO SUL             AC               NaN     NaN     18   \n",
       "\n",
       "  has_finished_high_school school_type family_monthly_income  \\\n",
       "0             ST_CONCLUSAO   TP_ESCOLA                  Q003   \n",
       "1                        1         NaN                     C   \n",
       "2                        1         NaN                     C   \n",
       "3                        3         NaN                     E   \n",
       "4                        3         NaN                     C   \n",
       "\n",
       "  family_people_count left_elementary_school left_high_school work_start_age  \\\n",
       "0                Q004                   Q031             Q034           Q040   \n",
       "1                   4                      A                A             15   \n",
       "2                   3                      A                A             18   \n",
       "3                   4                      E                E             19   \n",
       "4                   7                      A                B            NaN   \n",
       "\n",
       "  work_reason__help_parents work_reason__support_family  \\\n",
       "0                      Q042                        Q043   \n",
       "1                         4                           4   \n",
       "2                         5                           5   \n",
       "3                         0                           5   \n",
       "4                       NaN                         NaN   \n",
       "\n",
       "  work_reason__be_independent work_reason__gain_experience  \\\n",
       "0                        Q044                         Q045   \n",
       "1                           1                            0   \n",
       "2                           5                            3   \n",
       "3                           5                            5   \n",
       "4                         NaN                          NaN   \n",
       "\n",
       "  work_reason__afford_education left_school_age  \n",
       "0                          Q046            Q076  \n",
       "1                             1             NaN  \n",
       "2                             3             NaN  \n",
       "3                             5             NaN  \n",
       "4                           NaN             NaN  "
      ],
      "text/html": "<div>\n<style scoped>\n    .dataframe tbody tr th:only-of-type {\n        vertical-align: middle;\n    }\n\n    .dataframe tbody tr th {\n        vertical-align: top;\n    }\n\n    .dataframe thead th {\n        text-align: right;\n    }\n</style>\n<table border=\"1\" class=\"dataframe\">\n  <thead>\n    <tr style=\"text-align: right;\">\n      <th></th>\n      <th>city1</th>\n      <th>state1</th>\n      <th>city2</th>\n      <th>state2</th>\n      <th>age</th>\n      <th>has_finished_high_school</th>\n      <th>school_type</th>\n      <th>family_monthly_income</th>\n      <th>family_people_count</th>\n      <th>left_elementary_school</th>\n      <th>left_high_school</th>\n      <th>work_start_age</th>\n      <th>work_reason__help_parents</th>\n      <th>work_reason__support_family</th>\n      <th>work_reason__be_independent</th>\n      <th>work_reason__gain_experience</th>\n      <th>work_reason__afford_education</th>\n      <th>left_school_age</th>\n    </tr>\n  </thead>\n  <tbody>\n    <tr>\n      <th>0</th>\n      <td>NO_MUNICIPIO_RESIDENCIA</td>\n      <td>UF_RESIDENCIA</td>\n      <td>NO_MUNICIPIO_ESC</td>\n      <td>UF_ESC</td>\n      <td>IDADE</td>\n      <td>ST_CONCLUSAO</td>\n      <td>TP_ESCOLA</td>\n      <td>Q003</td>\n      <td>Q004</td>\n      <td>Q031</td>\n      <td>Q034</td>\n      <td>Q040</td>\n      <td>Q042</td>\n      <td>Q043</td>\n      <td>Q044</td>\n      <td>Q045</td>\n      <td>Q046</td>\n      <td>Q076</td>\n    </tr>\n    <tr>\n      <th>1</th>\n      <td>RIO BRANCO</td>\n      <td>AC</td>\n      <td>NaN</td>\n      <td>NaN</td>\n      <td>26</td>\n      <td>1</td>\n      <td>NaN</td>\n      <td>C</td>\n      <td>4</td>\n      <td>A</td>\n      <td>A</td>\n      <td>15</td>\n      <td>4</td>\n      <td>4</td>\n      <td>1</td>\n      <td>0</td>\n      <td>1</td>\n      <td>NaN</td>\n    </tr>\n    <tr>\n      <th>2</th>\n      <td>RIO BRANCO</td>\n      <td>AC</td>\n      <td>NaN</td>\n      <td>NaN</td>\n      <td>29</td>\n      <td>1</td>\n      <td>NaN</td>\n      <td>C</td>\n      <td>3</td>\n      <td>A</td>\n      <td>A</td>\n      <td>18</td>\n      <td>5</td>\n      <td>5</td>\n      <td>5</td>\n      <td>3</td>\n      <td>3</td>\n      <td>NaN</td>\n    </tr>\n    <tr>\n      <th>3</th>\n      <td>RIO BRANCO</td>\n      <td>AC</td>\n      <td>NaN</td>\n      <td>NaN</td>\n      <td>27</td>\n      <td>3</td>\n      <td>NaN</td>\n      <td>E</td>\n      <td>4</td>\n      <td>E</td>\n      <td>E</td>\n      <td>19</td>\n      <td>0</td>\n      <td>5</td>\n      <td>5</td>\n      <td>5</td>\n      <td>5</td>\n      <td>NaN</td>\n    </tr>\n    <tr>\n      <th>4</th>\n      <td>CRUZEIRO DO SUL</td>\n      <td>AC</td>\n      <td>NaN</td>\n      <td>NaN</td>\n      <td>18</td>\n      <td>3</td>\n      <td>NaN</td>\n      <td>C</td>\n      <td>7</td>\n      <td>A</td>\n      <td>B</td>\n      <td>NaN</td>\n      <td>NaN</td>\n      <td>NaN</td>\n      <td>NaN</td>\n      <td>NaN</td>\n      <td>NaN</td>\n      <td>NaN</td>\n    </tr>\n  </tbody>\n</table>\n</div>"
     },
     "metadata": {},
     "execution_count": 9
    }
   ],
   "source": [
    "\n",
    "\n",
    "columns = [\n",
    "    \"city1\",                            # candidate's city name\n",
    "    \"state1\",                           # candidate's state code\n",
    "    \"city2\",                            # candidate's city name\n",
    "    \"state2\",                           # candidate's state code\n",
    "    \"age\",                              # candidate's age\n",
    "    \"has_finished_high_school\",         # candidate has finished high school\n",
    "    \"school_type\",                      # candidate's school type (1 = public or 2 = private)\n",
    "    \"family_monthly_income\",            # candidate's family monthly income  \n",
    "    \"family_people_count\",              # number of people who lives with the candidate in the same house\n",
    "    \"left_elementary_school\",           # \"Q040 you left elementary school?\"\n",
    "    \"left_high_school\",                 # \"have you left high school?\"\n",
    "    \"work_start_age\",                   # \"how old were you when started working?\"\n",
    "    \"work_reason__help_parents\",        # \"I started working to help my parents\"\n",
    "    \"work_reason__support_family\",      # \"I started working to support my family\"\n",
    "    \"work_reason__be_independent\",      # \"I started working to be independent\"\n",
    "    \"work_reason__gain_experience\",     # \"I started working to gain experience\"\n",
    "    \"work_reason__afford_education\",    # \"I started working to afford my education\"\n",
    "    \"left_school_age\",                  # \"how old were you when left the school?\"\n",
    "]\n",
    "\n",
    "df = pd.read_csv(\"data-prepared/enem_2013_AC.csv\", sep=\";\", names=columns)\n",
    "df.head()"
   ]
  },
  {
   "source": [
    "The city and state columns are important because I'll compare regions by using such values, let's see if all rows have missing values"
   ],
   "cell_type": "markdown",
   "metadata": {}
  },
  {
   "cell_type": "code",
   "execution_count": 10,
   "metadata": {},
   "outputs": [
    {
     "output_type": "stream",
     "name": "stdout",
     "text": [
      "Rows missing city: 0.0\nRows missing state: 0.0\n"
     ]
    }
   ],
   "source": [
    "city1_missing_values_rate = df['city1'].isnull().sum() / df.shape[0]\n",
    "state1_missing_values_rate = df['state1'].isnull().sum() / df.shape[0]\n",
    "print(f\"Rows missing city: {city1_missing_values_rate}\")\n",
    "print(f\"Rows missing state: {state1_missing_values_rate}\")"
   ]
  },
  {
   "source": [
    "Great! We have no missing values for such key columns.\n",
    "\n",
    "Let's expand this analysis for all the columns."
   ],
   "cell_type": "markdown",
   "metadata": {}
  },
  {
   "cell_type": "code",
   "execution_count": 11,
   "metadata": {},
   "outputs": [
    {
     "output_type": "execute_result",
     "data": {
      "text/plain": [
       "city1                            0.000000\n",
       "state1                           0.000000\n",
       "city2                            0.842004\n",
       "state2                           0.842004\n",
       "age                              0.000000\n",
       "has_finished_high_school         0.000000\n",
       "school_type                      0.843324\n",
       "family_monthly_income            0.000000\n",
       "family_people_count              0.000000\n",
       "left_elementary_school           0.000000\n",
       "left_high_school                 0.000000\n",
       "work_start_age                   0.370228\n",
       "work_reason__help_parents        0.370228\n",
       "work_reason__support_family      0.370228\n",
       "work_reason__be_independent      0.370228\n",
       "work_reason__gain_experience     0.370228\n",
       "work_reason__afford_education    0.370228\n",
       "left_school_age                  0.999983\n",
       "dtype: float64"
      ]
     },
     "metadata": {},
     "execution_count": 11
    }
   ],
   "source": [
    "df.isnull().sum() / df.shape[0]"
   ]
  },
  {
   "source": [
    "Unfortunately, I can notice ```left_school_age``` and ```school_type``` are not helpful due to their high missing value rates. I'll consider avoid them in the following analysis.\n",
    "\n",
    "\n",
    "\n",
    "Now, let's transform ```family_monthly_income``` from categorical into a numeric column by using the values from the answer options: \n",
    "\n",
    "|Monthly income|Numerical value|\n",
    "|---|---|\n",
    "|No income|R$ 0|\n",
    "|Up to a minimum salary|R$ 678|\n",
    "|Up to 1,5 minimum salaries|R$ 847|\n",
    "|Up to 2 salaries|R$ 1017|\n",
    "|Up to 2,5 salaries|R$ 1356|\n",
    "|Up to 3 salaries|R$ 1695|\n",
    "|Up to 4 salaries|R$ 2034|\n",
    "|Up to 5 salaries|R$ 2712|\n",
    "|Up to 6 salaries|R$ 3390|\n",
    "|Up to 7 salaries|R$ 4068|\n",
    "|Up to 8 salaries|R$ 4746|\n",
    "|Up to 9 salaries|R$ 5424|\n",
    "|Up to 10 salaries|R$ 6102|\n",
    "|Up to 12 salaries|R$ 6780|\n",
    "|Up to 15 salaries|R$ 8136|\n",
    "|Up to 20 salaries|R$ 10170|\n",
    "|More than 20 salaries|R$ 13560|"
   ],
   "cell_type": "markdown",
   "metadata": {}
  },
  {
   "cell_type": "code",
   "execution_count": 12,
   "metadata": {},
   "outputs": [
    {
     "output_type": "execute_result",
     "data": {
      "text/plain": [
       "                     city1  family_monthly_income_value\n",
       "0  NO_MUNICIPIO_RESIDENCIA                          NaN\n",
       "1               RIO BRANCO                        847.0\n",
       "2               RIO BRANCO                        847.0\n",
       "3               RIO BRANCO                       1356.0\n",
       "4          CRUZEIRO DO SUL                        847.0"
      ],
      "text/html": "<div>\n<style scoped>\n    .dataframe tbody tr th:only-of-type {\n        vertical-align: middle;\n    }\n\n    .dataframe tbody tr th {\n        vertical-align: top;\n    }\n\n    .dataframe thead th {\n        text-align: right;\n    }\n</style>\n<table border=\"1\" class=\"dataframe\">\n  <thead>\n    <tr style=\"text-align: right;\">\n      <th></th>\n      <th>city1</th>\n      <th>family_monthly_income_value</th>\n    </tr>\n  </thead>\n  <tbody>\n    <tr>\n      <th>0</th>\n      <td>NO_MUNICIPIO_RESIDENCIA</td>\n      <td>NaN</td>\n    </tr>\n    <tr>\n      <th>1</th>\n      <td>RIO BRANCO</td>\n      <td>847.0</td>\n    </tr>\n    <tr>\n      <th>2</th>\n      <td>RIO BRANCO</td>\n      <td>847.0</td>\n    </tr>\n    <tr>\n      <th>3</th>\n      <td>RIO BRANCO</td>\n      <td>1356.0</td>\n    </tr>\n    <tr>\n      <th>4</th>\n      <td>CRUZEIRO DO SUL</td>\n      <td>847.0</td>\n    </tr>\n  </tbody>\n</table>\n</div>"
     },
     "metadata": {},
     "execution_count": 12
    }
   ],
   "source": [
    "def monthly_income(choice):\n",
    "    if choice == \"A\":\n",
    "        return 0\n",
    "    if choice == \"B\":\n",
    "        return 678\n",
    "    if choice == \"C\":\n",
    "        return 847\n",
    "    if choice == \"D\":\n",
    "        return 1017\n",
    "    if choice == \"E\":\n",
    "        return 1356\n",
    "    if choice == \"F\":\n",
    "        return 1695\n",
    "    if choice == \"G\":\n",
    "        return 2034\n",
    "    if choice == \"H\":\n",
    "        return 2712\n",
    "    if choice == \"I\":\n",
    "        return 3390\n",
    "    if choice == \"J\":\n",
    "        return 4068\n",
    "    if choice == \"K\":\n",
    "        return 4746\n",
    "    if choice == \"L\":\n",
    "        return 5424\n",
    "    if choice == \"M\":\n",
    "        return 6102\n",
    "    if choice == \"N\":\n",
    "        return 6780\n",
    "    if choice == \"O\":\n",
    "        return 8136\n",
    "    if choice == \"P\":\n",
    "        return 10170\n",
    "    if choice == \"Q\":\n",
    "        return 13560\n",
    "\n",
    "df[\"family_monthly_income_value\"] = df.apply(lambda row: monthly_income(row.family_monthly_income), axis=1)\n",
    "df[[\"city1\", \"family_monthly_income_value\"]].head()"
   ]
  },
  {
   "source": [
    "Let's see the family monthly income distribution"
   ],
   "cell_type": "markdown",
   "metadata": {}
  },
  {
   "cell_type": "code",
   "execution_count": 13,
   "metadata": {},
   "outputs": [
    {
     "output_type": "execute_result",
     "data": {
      "text/plain": [
       "<AxesSubplot:>"
      ]
     },
     "metadata": {},
     "execution_count": 13
    },
    {
     "output_type": "display_data",
     "data": {
      "text/plain": "<Figure size 432x288 with 1 Axes>",
      "image/svg+xml": "<?xml version=\"1.0\" encoding=\"utf-8\" standalone=\"no\"?>\n<!DOCTYPE svg PUBLIC \"-//W3C//DTD SVG 1.1//EN\"\n  \"http://www.w3.org/Graphics/SVG/1.1/DTD/svg11.dtd\">\n<!-- Created with matplotlib (https://matplotlib.org/) -->\n<svg height=\"248.518125pt\" version=\"1.1\" viewBox=\"0 0 398.576674 248.518125\" width=\"398.576674pt\" xmlns=\"http://www.w3.org/2000/svg\" xmlns:xlink=\"http://www.w3.org/1999/xlink\">\n <metadata>\n  <rdf:RDF xmlns:cc=\"http://creativecommons.org/ns#\" xmlns:dc=\"http://purl.org/dc/elements/1.1/\" xmlns:rdf=\"http://www.w3.org/1999/02/22-rdf-syntax-ns#\">\n   <cc:Work>\n    <dc:type rdf:resource=\"http://purl.org/dc/dcmitype/StillImage\"/>\n    <dc:date>2021-01-23T19:16:50.981619</dc:date>\n    <dc:format>image/svg+xml</dc:format>\n    <dc:creator>\n     <cc:Agent>\n      <dc:title>Matplotlib v3.3.3, https://matplotlib.org/</dc:title>\n     </cc:Agent>\n    </dc:creator>\n   </cc:Work>\n  </rdf:RDF>\n </metadata>\n <defs>\n  <style type=\"text/css\">*{stroke-linecap:butt;stroke-linejoin:round;}</style>\n </defs>\n <g id=\"figure_1\">\n  <g id=\"patch_1\">\n   <path d=\"M 0 248.518125 \nL 398.576674 248.518125 \nL 398.576674 0 \nL 0 0 \nz\n\" style=\"fill:none;\"/>\n  </g>\n  <g id=\"axes_1\">\n   <g id=\"patch_2\">\n    <path d=\"M 46.0125 224.64 \nL 380.8125 224.64 \nL 380.8125 7.2 \nL 46.0125 7.2 \nz\n\" style=\"fill:#ffffff;\"/>\n   </g>\n   <g id=\"patch_3\">\n    <path clip-path=\"url(#pb1d89b4862)\" d=\"M 61.230682 224.64 \nL 79.134425 224.64 \nL 79.134425 17.554286 \nL 61.230682 17.554286 \nz\n\" style=\"fill:#1f77b4;\"/>\n   </g>\n   <g id=\"patch_4\">\n    <path clip-path=\"url(#pb1d89b4862)\" d=\"M 79.134425 224.64 \nL 97.038168 224.64 \nL 97.038168 72.552178 \nL 79.134425 72.552178 \nz\n\" style=\"fill:#1f77b4;\"/>\n   </g>\n   <g id=\"patch_5\">\n    <path clip-path=\"url(#pb1d89b4862)\" d=\"M 97.038168 224.64 \nL 114.941912 224.64 \nL 114.941912 189.792708 \nL 97.038168 189.792708 \nz\n\" style=\"fill:#1f77b4;\"/>\n   </g>\n   <g id=\"patch_6\">\n    <path clip-path=\"url(#pb1d89b4862)\" d=\"M 114.941912 224.64 \nL 132.845655 224.64 \nL 132.845655 212.792365 \nL 114.941912 212.792365 \nz\n\" style=\"fill:#1f77b4;\"/>\n   </g>\n   <g id=\"patch_7\">\n    <path clip-path=\"url(#pb1d89b4862)\" d=\"M 132.845655 224.64 \nL 150.749398 224.64 \nL 150.749398 217.254653 \nL 132.845655 217.254653 \nz\n\" style=\"fill:#1f77b4;\"/>\n   </g>\n   <g id=\"patch_8\">\n    <path clip-path=\"url(#pb1d89b4862)\" d=\"M 150.749398 224.64 \nL 168.653142 224.64 \nL 168.653142 217.484058 \nL 150.749398 217.484058 \nz\n\" style=\"fill:#1f77b4;\"/>\n   </g>\n   <g id=\"patch_9\">\n    <path clip-path=\"url(#pb1d89b4862)\" d=\"M 168.653142 224.64 \nL 186.556885 224.64 \nL 186.556885 221.894545 \nL 168.653142 221.894545 \nz\n\" style=\"fill:#1f77b4;\"/>\n   </g>\n   <g id=\"patch_10\">\n    <path clip-path=\"url(#pb1d89b4862)\" d=\"M 186.556885 224.64 \nL 204.460628 224.64 \nL 204.460628 223.12297 \nL 186.556885 223.12297 \nz\n\" style=\"fill:#1f77b4;\"/>\n   </g>\n   <g id=\"patch_11\">\n    <path clip-path=\"url(#pb1d89b4862)\" d=\"M 204.460628 224.64 \nL 222.364372 224.64 \nL 222.364372 222.13135 \nL 204.460628 222.13135 \nz\n\" style=\"fill:#1f77b4;\"/>\n   </g>\n   <g id=\"patch_12\">\n    <path clip-path=\"url(#pb1d89b4862)\" d=\"M 222.364372 224.64 \nL 240.268115 224.64 \nL 240.268115 224.64 \nL 222.364372 224.64 \nz\n\" style=\"fill:#1f77b4;\"/>\n   </g>\n   <g id=\"patch_13\">\n    <path clip-path=\"url(#pb1d89b4862)\" d=\"M 240.268115 224.64 \nL 258.171858 224.64 \nL 258.171858 222.804764 \nL 240.268115 222.804764 \nz\n\" style=\"fill:#1f77b4;\"/>\n   </g>\n   <g id=\"patch_14\">\n    <path clip-path=\"url(#pb1d89b4862)\" d=\"M 258.171858 224.64 \nL 276.075602 224.64 \nL 276.075602 224.64 \nL 258.171858 224.64 \nz\n\" style=\"fill:#1f77b4;\"/>\n   </g>\n   <g id=\"patch_15\">\n    <path clip-path=\"url(#pb1d89b4862)\" d=\"M 276.075602 224.64 \nL 293.979345 224.64 \nL 293.979345 223.589179 \nL 276.075602 223.589179 \nz\n\" style=\"fill:#1f77b4;\"/>\n   </g>\n   <g id=\"patch_16\">\n    <path clip-path=\"url(#pb1d89b4862)\" d=\"M 293.979345 224.64 \nL 311.883088 224.64 \nL 311.883088 224.64 \nL 293.979345 224.64 \nz\n\" style=\"fill:#1f77b4;\"/>\n   </g>\n   <g id=\"patch_17\">\n    <path clip-path=\"url(#pb1d89b4862)\" d=\"M 311.883088 224.64 \nL 329.786832 224.64 \nL 329.786832 224.64 \nL 311.883088 224.64 \nz\n\" style=\"fill:#1f77b4;\"/>\n   </g>\n   <g id=\"patch_18\">\n    <path clip-path=\"url(#pb1d89b4862)\" d=\"M 329.786832 224.64 \nL 347.690575 224.64 \nL 347.690575 224.64 \nL 329.786832 224.64 \nz\n\" style=\"fill:#1f77b4;\"/>\n   </g>\n   <g id=\"patch_19\">\n    <path clip-path=\"url(#pb1d89b4862)\" d=\"M 347.690575 224.64 \nL 365.594318 224.64 \nL 365.594318 222.871365 \nL 347.690575 222.871365 \nz\n\" style=\"fill:#1f77b4;\"/>\n   </g>\n   <g id=\"matplotlib.axis_1\">\n    <g id=\"xtick_1\">\n     <g id=\"line2d_1\">\n      <path clip-path=\"url(#pb1d89b4862)\" d=\"M 61.230682 224.64 \nL 61.230682 7.2 \n\" style=\"fill:none;stroke:#b0b0b0;stroke-linecap:square;stroke-width:0.8;\"/>\n     </g>\n     <g id=\"line2d_2\">\n      <defs>\n       <path d=\"M 0 0 \nL 0 3.5 \n\" id=\"m3f374b299a\" style=\"stroke:#000000;stroke-width:0.8;\"/>\n      </defs>\n      <g>\n       <use style=\"stroke:#000000;stroke-width:0.8;\" x=\"61.230682\" xlink:href=\"#m3f374b299a\" y=\"224.64\"/>\n      </g>\n     </g>\n     <g id=\"text_1\">\n      <!-- 0 -->\n      <g transform=\"translate(58.049432 239.238437)scale(0.1 -0.1)\">\n       <defs>\n        <path d=\"M 31.78125 66.40625 \nQ 24.171875 66.40625 20.328125 58.90625 \nQ 16.5 51.421875 16.5 36.375 \nQ 16.5 21.390625 20.328125 13.890625 \nQ 24.171875 6.390625 31.78125 6.390625 \nQ 39.453125 6.390625 43.28125 13.890625 \nQ 47.125 21.390625 47.125 36.375 \nQ 47.125 51.421875 43.28125 58.90625 \nQ 39.453125 66.40625 31.78125 66.40625 \nz\nM 31.78125 74.21875 \nQ 44.046875 74.21875 50.515625 64.515625 \nQ 56.984375 54.828125 56.984375 36.375 \nQ 56.984375 17.96875 50.515625 8.265625 \nQ 44.046875 -1.421875 31.78125 -1.421875 \nQ 19.53125 -1.421875 13.0625 8.265625 \nQ 6.59375 17.96875 6.59375 36.375 \nQ 6.59375 54.828125 13.0625 64.515625 \nQ 19.53125 74.21875 31.78125 74.21875 \nz\n\" id=\"DejaVuSans-48\"/>\n       </defs>\n       <use xlink:href=\"#DejaVuSans-48\"/>\n      </g>\n     </g>\n    </g>\n    <g id=\"xtick_2\">\n     <g id=\"line2d_3\">\n      <path clip-path=\"url(#pb1d89b4862)\" d=\"M 106.122074 224.64 \nL 106.122074 7.2 \n\" style=\"fill:none;stroke:#b0b0b0;stroke-linecap:square;stroke-width:0.8;\"/>\n     </g>\n     <g id=\"line2d_4\">\n      <g>\n       <use style=\"stroke:#000000;stroke-width:0.8;\" x=\"106.122074\" xlink:href=\"#m3f374b299a\" y=\"224.64\"/>\n      </g>\n     </g>\n     <g id=\"text_2\">\n      <!-- 2000 -->\n      <g transform=\"translate(93.397074 239.238437)scale(0.1 -0.1)\">\n       <defs>\n        <path d=\"M 19.1875 8.296875 \nL 53.609375 8.296875 \nL 53.609375 0 \nL 7.328125 0 \nL 7.328125 8.296875 \nQ 12.9375 14.109375 22.625 23.890625 \nQ 32.328125 33.6875 34.8125 36.53125 \nQ 39.546875 41.84375 41.421875 45.53125 \nQ 43.3125 49.21875 43.3125 52.78125 \nQ 43.3125 58.59375 39.234375 62.25 \nQ 35.15625 65.921875 28.609375 65.921875 \nQ 23.96875 65.921875 18.8125 64.3125 \nQ 13.671875 62.703125 7.8125 59.421875 \nL 7.8125 69.390625 \nQ 13.765625 71.78125 18.9375 73 \nQ 24.125 74.21875 28.421875 74.21875 \nQ 39.75 74.21875 46.484375 68.546875 \nQ 53.21875 62.890625 53.21875 53.421875 \nQ 53.21875 48.921875 51.53125 44.890625 \nQ 49.859375 40.875 45.40625 35.40625 \nQ 44.1875 33.984375 37.640625 27.21875 \nQ 31.109375 20.453125 19.1875 8.296875 \nz\n\" id=\"DejaVuSans-50\"/>\n       </defs>\n       <use xlink:href=\"#DejaVuSans-50\"/>\n       <use x=\"63.623047\" xlink:href=\"#DejaVuSans-48\"/>\n       <use x=\"127.246094\" xlink:href=\"#DejaVuSans-48\"/>\n       <use x=\"190.869141\" xlink:href=\"#DejaVuSans-48\"/>\n      </g>\n     </g>\n    </g>\n    <g id=\"xtick_3\">\n     <g id=\"line2d_5\">\n      <path clip-path=\"url(#pb1d89b4862)\" d=\"M 151.013465 224.64 \nL 151.013465 7.2 \n\" style=\"fill:none;stroke:#b0b0b0;stroke-linecap:square;stroke-width:0.8;\"/>\n     </g>\n     <g id=\"line2d_6\">\n      <g>\n       <use style=\"stroke:#000000;stroke-width:0.8;\" x=\"151.013465\" xlink:href=\"#m3f374b299a\" y=\"224.64\"/>\n      </g>\n     </g>\n     <g id=\"text_3\">\n      <!-- 4000 -->\n      <g transform=\"translate(138.288465 239.238437)scale(0.1 -0.1)\">\n       <defs>\n        <path d=\"M 37.796875 64.3125 \nL 12.890625 25.390625 \nL 37.796875 25.390625 \nz\nM 35.203125 72.90625 \nL 47.609375 72.90625 \nL 47.609375 25.390625 \nL 58.015625 25.390625 \nL 58.015625 17.1875 \nL 47.609375 17.1875 \nL 47.609375 0 \nL 37.796875 0 \nL 37.796875 17.1875 \nL 4.890625 17.1875 \nL 4.890625 26.703125 \nz\n\" id=\"DejaVuSans-52\"/>\n       </defs>\n       <use xlink:href=\"#DejaVuSans-52\"/>\n       <use x=\"63.623047\" xlink:href=\"#DejaVuSans-48\"/>\n       <use x=\"127.246094\" xlink:href=\"#DejaVuSans-48\"/>\n       <use x=\"190.869141\" xlink:href=\"#DejaVuSans-48\"/>\n      </g>\n     </g>\n    </g>\n    <g id=\"xtick_4\">\n     <g id=\"line2d_7\">\n      <path clip-path=\"url(#pb1d89b4862)\" d=\"M 195.904857 224.64 \nL 195.904857 7.2 \n\" style=\"fill:none;stroke:#b0b0b0;stroke-linecap:square;stroke-width:0.8;\"/>\n     </g>\n     <g id=\"line2d_8\">\n      <g>\n       <use style=\"stroke:#000000;stroke-width:0.8;\" x=\"195.904857\" xlink:href=\"#m3f374b299a\" y=\"224.64\"/>\n      </g>\n     </g>\n     <g id=\"text_4\">\n      <!-- 6000 -->\n      <g transform=\"translate(183.179857 239.238437)scale(0.1 -0.1)\">\n       <defs>\n        <path d=\"M 33.015625 40.375 \nQ 26.375 40.375 22.484375 35.828125 \nQ 18.609375 31.296875 18.609375 23.390625 \nQ 18.609375 15.53125 22.484375 10.953125 \nQ 26.375 6.390625 33.015625 6.390625 \nQ 39.65625 6.390625 43.53125 10.953125 \nQ 47.40625 15.53125 47.40625 23.390625 \nQ 47.40625 31.296875 43.53125 35.828125 \nQ 39.65625 40.375 33.015625 40.375 \nz\nM 52.59375 71.296875 \nL 52.59375 62.3125 \nQ 48.875 64.0625 45.09375 64.984375 \nQ 41.3125 65.921875 37.59375 65.921875 \nQ 27.828125 65.921875 22.671875 59.328125 \nQ 17.53125 52.734375 16.796875 39.40625 \nQ 19.671875 43.65625 24.015625 45.921875 \nQ 28.375 48.1875 33.59375 48.1875 \nQ 44.578125 48.1875 50.953125 41.515625 \nQ 57.328125 34.859375 57.328125 23.390625 \nQ 57.328125 12.15625 50.6875 5.359375 \nQ 44.046875 -1.421875 33.015625 -1.421875 \nQ 20.359375 -1.421875 13.671875 8.265625 \nQ 6.984375 17.96875 6.984375 36.375 \nQ 6.984375 53.65625 15.1875 63.9375 \nQ 23.390625 74.21875 37.203125 74.21875 \nQ 40.921875 74.21875 44.703125 73.484375 \nQ 48.484375 72.75 52.59375 71.296875 \nz\n\" id=\"DejaVuSans-54\"/>\n       </defs>\n       <use xlink:href=\"#DejaVuSans-54\"/>\n       <use x=\"63.623047\" xlink:href=\"#DejaVuSans-48\"/>\n       <use x=\"127.246094\" xlink:href=\"#DejaVuSans-48\"/>\n       <use x=\"190.869141\" xlink:href=\"#DejaVuSans-48\"/>\n      </g>\n     </g>\n    </g>\n    <g id=\"xtick_5\">\n     <g id=\"line2d_9\">\n      <path clip-path=\"url(#pb1d89b4862)\" d=\"M 240.796249 224.64 \nL 240.796249 7.2 \n\" style=\"fill:none;stroke:#b0b0b0;stroke-linecap:square;stroke-width:0.8;\"/>\n     </g>\n     <g id=\"line2d_10\">\n      <g>\n       <use style=\"stroke:#000000;stroke-width:0.8;\" x=\"240.796249\" xlink:href=\"#m3f374b299a\" y=\"224.64\"/>\n      </g>\n     </g>\n     <g id=\"text_5\">\n      <!-- 8000 -->\n      <g transform=\"translate(228.071249 239.238437)scale(0.1 -0.1)\">\n       <defs>\n        <path d=\"M 31.78125 34.625 \nQ 24.75 34.625 20.71875 30.859375 \nQ 16.703125 27.09375 16.703125 20.515625 \nQ 16.703125 13.921875 20.71875 10.15625 \nQ 24.75 6.390625 31.78125 6.390625 \nQ 38.8125 6.390625 42.859375 10.171875 \nQ 46.921875 13.96875 46.921875 20.515625 \nQ 46.921875 27.09375 42.890625 30.859375 \nQ 38.875 34.625 31.78125 34.625 \nz\nM 21.921875 38.8125 \nQ 15.578125 40.375 12.03125 44.71875 \nQ 8.5 49.078125 8.5 55.328125 \nQ 8.5 64.0625 14.71875 69.140625 \nQ 20.953125 74.21875 31.78125 74.21875 \nQ 42.671875 74.21875 48.875 69.140625 \nQ 55.078125 64.0625 55.078125 55.328125 \nQ 55.078125 49.078125 51.53125 44.71875 \nQ 48 40.375 41.703125 38.8125 \nQ 48.828125 37.15625 52.796875 32.3125 \nQ 56.78125 27.484375 56.78125 20.515625 \nQ 56.78125 9.90625 50.3125 4.234375 \nQ 43.84375 -1.421875 31.78125 -1.421875 \nQ 19.734375 -1.421875 13.25 4.234375 \nQ 6.78125 9.90625 6.78125 20.515625 \nQ 6.78125 27.484375 10.78125 32.3125 \nQ 14.796875 37.15625 21.921875 38.8125 \nz\nM 18.3125 54.390625 \nQ 18.3125 48.734375 21.84375 45.5625 \nQ 25.390625 42.390625 31.78125 42.390625 \nQ 38.140625 42.390625 41.71875 45.5625 \nQ 45.3125 48.734375 45.3125 54.390625 \nQ 45.3125 60.0625 41.71875 63.234375 \nQ 38.140625 66.40625 31.78125 66.40625 \nQ 25.390625 66.40625 21.84375 63.234375 \nQ 18.3125 60.0625 18.3125 54.390625 \nz\n\" id=\"DejaVuSans-56\"/>\n       </defs>\n       <use xlink:href=\"#DejaVuSans-56\"/>\n       <use x=\"63.623047\" xlink:href=\"#DejaVuSans-48\"/>\n       <use x=\"127.246094\" xlink:href=\"#DejaVuSans-48\"/>\n       <use x=\"190.869141\" xlink:href=\"#DejaVuSans-48\"/>\n      </g>\n     </g>\n    </g>\n    <g id=\"xtick_6\">\n     <g id=\"line2d_11\">\n      <path clip-path=\"url(#pb1d89b4862)\" d=\"M 285.687641 224.64 \nL 285.687641 7.2 \n\" style=\"fill:none;stroke:#b0b0b0;stroke-linecap:square;stroke-width:0.8;\"/>\n     </g>\n     <g id=\"line2d_12\">\n      <g>\n       <use style=\"stroke:#000000;stroke-width:0.8;\" x=\"285.687641\" xlink:href=\"#m3f374b299a\" y=\"224.64\"/>\n      </g>\n     </g>\n     <g id=\"text_6\">\n      <!-- 10000 -->\n      <g transform=\"translate(269.781391 239.238437)scale(0.1 -0.1)\">\n       <defs>\n        <path d=\"M 12.40625 8.296875 \nL 28.515625 8.296875 \nL 28.515625 63.921875 \nL 10.984375 60.40625 \nL 10.984375 69.390625 \nL 28.421875 72.90625 \nL 38.28125 72.90625 \nL 38.28125 8.296875 \nL 54.390625 8.296875 \nL 54.390625 0 \nL 12.40625 0 \nz\n\" id=\"DejaVuSans-49\"/>\n       </defs>\n       <use xlink:href=\"#DejaVuSans-49\"/>\n       <use x=\"63.623047\" xlink:href=\"#DejaVuSans-48\"/>\n       <use x=\"127.246094\" xlink:href=\"#DejaVuSans-48\"/>\n       <use x=\"190.869141\" xlink:href=\"#DejaVuSans-48\"/>\n       <use x=\"254.492188\" xlink:href=\"#DejaVuSans-48\"/>\n      </g>\n     </g>\n    </g>\n    <g id=\"xtick_7\">\n     <g id=\"line2d_13\">\n      <path clip-path=\"url(#pb1d89b4862)\" d=\"M 330.579033 224.64 \nL 330.579033 7.2 \n\" style=\"fill:none;stroke:#b0b0b0;stroke-linecap:square;stroke-width:0.8;\"/>\n     </g>\n     <g id=\"line2d_14\">\n      <g>\n       <use style=\"stroke:#000000;stroke-width:0.8;\" x=\"330.579033\" xlink:href=\"#m3f374b299a\" y=\"224.64\"/>\n      </g>\n     </g>\n     <g id=\"text_7\">\n      <!-- 12000 -->\n      <g transform=\"translate(314.672783 239.238437)scale(0.1 -0.1)\">\n       <use xlink:href=\"#DejaVuSans-49\"/>\n       <use x=\"63.623047\" xlink:href=\"#DejaVuSans-50\"/>\n       <use x=\"127.246094\" xlink:href=\"#DejaVuSans-48\"/>\n       <use x=\"190.869141\" xlink:href=\"#DejaVuSans-48\"/>\n       <use x=\"254.492188\" xlink:href=\"#DejaVuSans-48\"/>\n      </g>\n     </g>\n    </g>\n    <g id=\"xtick_8\">\n     <g id=\"line2d_15\">\n      <path clip-path=\"url(#pb1d89b4862)\" d=\"M 375.470424 224.64 \nL 375.470424 7.2 \n\" style=\"fill:none;stroke:#b0b0b0;stroke-linecap:square;stroke-width:0.8;\"/>\n     </g>\n     <g id=\"line2d_16\">\n      <g>\n       <use style=\"stroke:#000000;stroke-width:0.8;\" x=\"375.470424\" xlink:href=\"#m3f374b299a\" y=\"224.64\"/>\n      </g>\n     </g>\n     <g id=\"text_8\">\n      <!-- 14000 -->\n      <g transform=\"translate(359.564174 239.238437)scale(0.1 -0.1)\">\n       <use xlink:href=\"#DejaVuSans-49\"/>\n       <use x=\"63.623047\" xlink:href=\"#DejaVuSans-52\"/>\n       <use x=\"127.246094\" xlink:href=\"#DejaVuSans-48\"/>\n       <use x=\"190.869141\" xlink:href=\"#DejaVuSans-48\"/>\n       <use x=\"254.492188\" xlink:href=\"#DejaVuSans-48\"/>\n      </g>\n     </g>\n    </g>\n   </g>\n   <g id=\"matplotlib.axis_2\">\n    <g id=\"ytick_1\">\n     <g id=\"line2d_17\">\n      <path clip-path=\"url(#pb1d89b4862)\" d=\"M 46.0125 224.64 \nL 380.8125 224.64 \n\" style=\"fill:none;stroke:#b0b0b0;stroke-linecap:square;stroke-width:0.8;\"/>\n     </g>\n     <g id=\"line2d_18\">\n      <defs>\n       <path d=\"M 0 0 \nL -3.5 0 \n\" id=\"m59a04cd5f2\" style=\"stroke:#000000;stroke-width:0.8;\"/>\n      </defs>\n      <g>\n       <use style=\"stroke:#000000;stroke-width:0.8;\" x=\"46.0125\" xlink:href=\"#m59a04cd5f2\" y=\"224.64\"/>\n      </g>\n     </g>\n     <g id=\"text_9\">\n      <!-- 0 -->\n      <g transform=\"translate(32.65 228.439219)scale(0.1 -0.1)\">\n       <use xlink:href=\"#DejaVuSans-48\"/>\n      </g>\n     </g>\n    </g>\n    <g id=\"ytick_2\">\n     <g id=\"line2d_19\">\n      <path clip-path=\"url(#pb1d89b4862)\" d=\"M 46.0125 187.639265 \nL 380.8125 187.639265 \n\" style=\"fill:none;stroke:#b0b0b0;stroke-linecap:square;stroke-width:0.8;\"/>\n     </g>\n     <g id=\"line2d_20\">\n      <g>\n       <use style=\"stroke:#000000;stroke-width:0.8;\" x=\"46.0125\" xlink:href=\"#m59a04cd5f2\" y=\"187.639265\"/>\n      </g>\n     </g>\n     <g id=\"text_10\">\n      <!-- 5000 -->\n      <g transform=\"translate(13.5625 191.438484)scale(0.1 -0.1)\">\n       <defs>\n        <path d=\"M 10.796875 72.90625 \nL 49.515625 72.90625 \nL 49.515625 64.59375 \nL 19.828125 64.59375 \nL 19.828125 46.734375 \nQ 21.96875 47.46875 24.109375 47.828125 \nQ 26.265625 48.1875 28.421875 48.1875 \nQ 40.625 48.1875 47.75 41.5 \nQ 54.890625 34.8125 54.890625 23.390625 \nQ 54.890625 11.625 47.5625 5.09375 \nQ 40.234375 -1.421875 26.90625 -1.421875 \nQ 22.3125 -1.421875 17.546875 -0.640625 \nQ 12.796875 0.140625 7.71875 1.703125 \nL 7.71875 11.625 \nQ 12.109375 9.234375 16.796875 8.0625 \nQ 21.484375 6.890625 26.703125 6.890625 \nQ 35.15625 6.890625 40.078125 11.328125 \nQ 45.015625 15.765625 45.015625 23.390625 \nQ 45.015625 31 40.078125 35.4375 \nQ 35.15625 39.890625 26.703125 39.890625 \nQ 22.75 39.890625 18.8125 39.015625 \nQ 14.890625 38.140625 10.796875 36.28125 \nz\n\" id=\"DejaVuSans-53\"/>\n       </defs>\n       <use xlink:href=\"#DejaVuSans-53\"/>\n       <use x=\"63.623047\" xlink:href=\"#DejaVuSans-48\"/>\n       <use x=\"127.246094\" xlink:href=\"#DejaVuSans-48\"/>\n       <use x=\"190.869141\" xlink:href=\"#DejaVuSans-48\"/>\n      </g>\n     </g>\n    </g>\n    <g id=\"ytick_3\">\n     <g id=\"line2d_21\">\n      <path clip-path=\"url(#pb1d89b4862)\" d=\"M 46.0125 150.63853 \nL 380.8125 150.63853 \n\" style=\"fill:none;stroke:#b0b0b0;stroke-linecap:square;stroke-width:0.8;\"/>\n     </g>\n     <g id=\"line2d_22\">\n      <g>\n       <use style=\"stroke:#000000;stroke-width:0.8;\" x=\"46.0125\" xlink:href=\"#m59a04cd5f2\" y=\"150.63853\"/>\n      </g>\n     </g>\n     <g id=\"text_11\">\n      <!-- 10000 -->\n      <g transform=\"translate(7.2 154.437749)scale(0.1 -0.1)\">\n       <use xlink:href=\"#DejaVuSans-49\"/>\n       <use x=\"63.623047\" xlink:href=\"#DejaVuSans-48\"/>\n       <use x=\"127.246094\" xlink:href=\"#DejaVuSans-48\"/>\n       <use x=\"190.869141\" xlink:href=\"#DejaVuSans-48\"/>\n       <use x=\"254.492188\" xlink:href=\"#DejaVuSans-48\"/>\n      </g>\n     </g>\n    </g>\n    <g id=\"ytick_4\">\n     <g id=\"line2d_23\">\n      <path clip-path=\"url(#pb1d89b4862)\" d=\"M 46.0125 113.637795 \nL 380.8125 113.637795 \n\" style=\"fill:none;stroke:#b0b0b0;stroke-linecap:square;stroke-width:0.8;\"/>\n     </g>\n     <g id=\"line2d_24\">\n      <g>\n       <use style=\"stroke:#000000;stroke-width:0.8;\" x=\"46.0125\" xlink:href=\"#m59a04cd5f2\" y=\"113.637795\"/>\n      </g>\n     </g>\n     <g id=\"text_12\">\n      <!-- 15000 -->\n      <g transform=\"translate(7.2 117.437013)scale(0.1 -0.1)\">\n       <use xlink:href=\"#DejaVuSans-49\"/>\n       <use x=\"63.623047\" xlink:href=\"#DejaVuSans-53\"/>\n       <use x=\"127.246094\" xlink:href=\"#DejaVuSans-48\"/>\n       <use x=\"190.869141\" xlink:href=\"#DejaVuSans-48\"/>\n       <use x=\"254.492188\" xlink:href=\"#DejaVuSans-48\"/>\n      </g>\n     </g>\n    </g>\n    <g id=\"ytick_5\">\n     <g id=\"line2d_25\">\n      <path clip-path=\"url(#pb1d89b4862)\" d=\"M 46.0125 76.63706 \nL 380.8125 76.63706 \n\" style=\"fill:none;stroke:#b0b0b0;stroke-linecap:square;stroke-width:0.8;\"/>\n     </g>\n     <g id=\"line2d_26\">\n      <g>\n       <use style=\"stroke:#000000;stroke-width:0.8;\" x=\"46.0125\" xlink:href=\"#m59a04cd5f2\" y=\"76.63706\"/>\n      </g>\n     </g>\n     <g id=\"text_13\">\n      <!-- 20000 -->\n      <g transform=\"translate(7.2 80.436278)scale(0.1 -0.1)\">\n       <use xlink:href=\"#DejaVuSans-50\"/>\n       <use x=\"63.623047\" xlink:href=\"#DejaVuSans-48\"/>\n       <use x=\"127.246094\" xlink:href=\"#DejaVuSans-48\"/>\n       <use x=\"190.869141\" xlink:href=\"#DejaVuSans-48\"/>\n       <use x=\"254.492188\" xlink:href=\"#DejaVuSans-48\"/>\n      </g>\n     </g>\n    </g>\n    <g id=\"ytick_6\">\n     <g id=\"line2d_27\">\n      <path clip-path=\"url(#pb1d89b4862)\" d=\"M 46.0125 39.636324 \nL 380.8125 39.636324 \n\" style=\"fill:none;stroke:#b0b0b0;stroke-linecap:square;stroke-width:0.8;\"/>\n     </g>\n     <g id=\"line2d_28\">\n      <g>\n       <use style=\"stroke:#000000;stroke-width:0.8;\" x=\"46.0125\" xlink:href=\"#m59a04cd5f2\" y=\"39.636324\"/>\n      </g>\n     </g>\n     <g id=\"text_14\">\n      <!-- 25000 -->\n      <g transform=\"translate(7.2 43.435543)scale(0.1 -0.1)\">\n       <use xlink:href=\"#DejaVuSans-50\"/>\n       <use x=\"63.623047\" xlink:href=\"#DejaVuSans-53\"/>\n       <use x=\"127.246094\" xlink:href=\"#DejaVuSans-48\"/>\n       <use x=\"190.869141\" xlink:href=\"#DejaVuSans-48\"/>\n       <use x=\"254.492188\" xlink:href=\"#DejaVuSans-48\"/>\n      </g>\n     </g>\n    </g>\n   </g>\n   <g id=\"patch_20\">\n    <path d=\"M 46.0125 224.64 \nL 46.0125 7.2 \n\" style=\"fill:none;stroke:#000000;stroke-linecap:square;stroke-linejoin:miter;stroke-width:0.8;\"/>\n   </g>\n   <g id=\"patch_21\">\n    <path d=\"M 380.8125 224.64 \nL 380.8125 7.2 \n\" style=\"fill:none;stroke:#000000;stroke-linecap:square;stroke-linejoin:miter;stroke-width:0.8;\"/>\n   </g>\n   <g id=\"patch_22\">\n    <path d=\"M 46.0125 224.64 \nL 380.8125 224.64 \n\" style=\"fill:none;stroke:#000000;stroke-linecap:square;stroke-linejoin:miter;stroke-width:0.8;\"/>\n   </g>\n   <g id=\"patch_23\">\n    <path d=\"M 46.0125 7.2 \nL 380.8125 7.2 \n\" style=\"fill:none;stroke:#000000;stroke-linecap:square;stroke-linejoin:miter;stroke-width:0.8;\"/>\n   </g>\n   <g id=\"legend_1\">\n    <g id=\"patch_24\">\n     <path d=\"M 190.854688 30.15625 \nL 373.8125 30.15625 \nQ 375.8125 30.15625 375.8125 28.15625 \nL 375.8125 14.2 \nQ 375.8125 12.2 373.8125 12.2 \nL 190.854688 12.2 \nQ 188.854688 12.2 188.854688 14.2 \nL 188.854688 28.15625 \nQ 188.854688 30.15625 190.854688 30.15625 \nz\n\" style=\"fill:#ffffff;opacity:0.8;stroke:#cccccc;stroke-linejoin:miter;\"/>\n    </g>\n    <g id=\"patch_25\">\n     <path d=\"M 192.854688 23.798437 \nL 212.854688 23.798437 \nL 212.854688 16.798437 \nL 192.854688 16.798437 \nz\n\" style=\"fill:#1f77b4;\"/>\n    </g>\n    <g id=\"text_15\">\n     <!-- family_monthly_income_value -->\n     <g transform=\"translate(220.854688 23.798437)scale(0.1 -0.1)\">\n      <defs>\n       <path d=\"M 37.109375 75.984375 \nL 37.109375 68.5 \nL 28.515625 68.5 \nQ 23.6875 68.5 21.796875 66.546875 \nQ 19.921875 64.59375 19.921875 59.515625 \nL 19.921875 54.6875 \nL 34.71875 54.6875 \nL 34.71875 47.703125 \nL 19.921875 47.703125 \nL 19.921875 0 \nL 10.890625 0 \nL 10.890625 47.703125 \nL 2.296875 47.703125 \nL 2.296875 54.6875 \nL 10.890625 54.6875 \nL 10.890625 58.5 \nQ 10.890625 67.625 15.140625 71.796875 \nQ 19.390625 75.984375 28.609375 75.984375 \nz\n\" id=\"DejaVuSans-102\"/>\n       <path d=\"M 34.28125 27.484375 \nQ 23.390625 27.484375 19.1875 25 \nQ 14.984375 22.515625 14.984375 16.5 \nQ 14.984375 11.71875 18.140625 8.90625 \nQ 21.296875 6.109375 26.703125 6.109375 \nQ 34.1875 6.109375 38.703125 11.40625 \nQ 43.21875 16.703125 43.21875 25.484375 \nL 43.21875 27.484375 \nz\nM 52.203125 31.203125 \nL 52.203125 0 \nL 43.21875 0 \nL 43.21875 8.296875 \nQ 40.140625 3.328125 35.546875 0.953125 \nQ 30.953125 -1.421875 24.3125 -1.421875 \nQ 15.921875 -1.421875 10.953125 3.296875 \nQ 6 8.015625 6 15.921875 \nQ 6 25.140625 12.171875 29.828125 \nQ 18.359375 34.515625 30.609375 34.515625 \nL 43.21875 34.515625 \nL 43.21875 35.40625 \nQ 43.21875 41.609375 39.140625 45 \nQ 35.0625 48.390625 27.6875 48.390625 \nQ 23 48.390625 18.546875 47.265625 \nQ 14.109375 46.140625 10.015625 43.890625 \nL 10.015625 52.203125 \nQ 14.9375 54.109375 19.578125 55.046875 \nQ 24.21875 56 28.609375 56 \nQ 40.484375 56 46.34375 49.84375 \nQ 52.203125 43.703125 52.203125 31.203125 \nz\n\" id=\"DejaVuSans-97\"/>\n       <path d=\"M 52 44.1875 \nQ 55.375 50.25 60.0625 53.125 \nQ 64.75 56 71.09375 56 \nQ 79.640625 56 84.28125 50.015625 \nQ 88.921875 44.046875 88.921875 33.015625 \nL 88.921875 0 \nL 79.890625 0 \nL 79.890625 32.71875 \nQ 79.890625 40.578125 77.09375 44.375 \nQ 74.3125 48.1875 68.609375 48.1875 \nQ 61.625 48.1875 57.5625 43.546875 \nQ 53.515625 38.921875 53.515625 30.90625 \nL 53.515625 0 \nL 44.484375 0 \nL 44.484375 32.71875 \nQ 44.484375 40.625 41.703125 44.40625 \nQ 38.921875 48.1875 33.109375 48.1875 \nQ 26.21875 48.1875 22.15625 43.53125 \nQ 18.109375 38.875 18.109375 30.90625 \nL 18.109375 0 \nL 9.078125 0 \nL 9.078125 54.6875 \nL 18.109375 54.6875 \nL 18.109375 46.1875 \nQ 21.1875 51.21875 25.484375 53.609375 \nQ 29.78125 56 35.6875 56 \nQ 41.65625 56 45.828125 52.96875 \nQ 50 49.953125 52 44.1875 \nz\n\" id=\"DejaVuSans-109\"/>\n       <path d=\"M 9.421875 54.6875 \nL 18.40625 54.6875 \nL 18.40625 0 \nL 9.421875 0 \nz\nM 9.421875 75.984375 \nL 18.40625 75.984375 \nL 18.40625 64.59375 \nL 9.421875 64.59375 \nz\n\" id=\"DejaVuSans-105\"/>\n       <path d=\"M 9.421875 75.984375 \nL 18.40625 75.984375 \nL 18.40625 0 \nL 9.421875 0 \nz\n\" id=\"DejaVuSans-108\"/>\n       <path d=\"M 32.171875 -5.078125 \nQ 28.375 -14.84375 24.75 -17.8125 \nQ 21.140625 -20.796875 15.09375 -20.796875 \nL 7.90625 -20.796875 \nL 7.90625 -13.28125 \nL 13.1875 -13.28125 \nQ 16.890625 -13.28125 18.9375 -11.515625 \nQ 21 -9.765625 23.484375 -3.21875 \nL 25.09375 0.875 \nL 2.984375 54.6875 \nL 12.5 54.6875 \nL 29.59375 11.921875 \nL 46.6875 54.6875 \nL 56.203125 54.6875 \nz\n\" id=\"DejaVuSans-121\"/>\n       <path d=\"M 50.984375 -16.609375 \nL 50.984375 -23.578125 \nL -0.984375 -23.578125 \nL -0.984375 -16.609375 \nz\n\" id=\"DejaVuSans-95\"/>\n       <path d=\"M 30.609375 48.390625 \nQ 23.390625 48.390625 19.1875 42.75 \nQ 14.984375 37.109375 14.984375 27.296875 \nQ 14.984375 17.484375 19.15625 11.84375 \nQ 23.34375 6.203125 30.609375 6.203125 \nQ 37.796875 6.203125 41.984375 11.859375 \nQ 46.1875 17.53125 46.1875 27.296875 \nQ 46.1875 37.015625 41.984375 42.703125 \nQ 37.796875 48.390625 30.609375 48.390625 \nz\nM 30.609375 56 \nQ 42.328125 56 49.015625 48.375 \nQ 55.71875 40.765625 55.71875 27.296875 \nQ 55.71875 13.875 49.015625 6.21875 \nQ 42.328125 -1.421875 30.609375 -1.421875 \nQ 18.84375 -1.421875 12.171875 6.21875 \nQ 5.515625 13.875 5.515625 27.296875 \nQ 5.515625 40.765625 12.171875 48.375 \nQ 18.84375 56 30.609375 56 \nz\n\" id=\"DejaVuSans-111\"/>\n       <path d=\"M 54.890625 33.015625 \nL 54.890625 0 \nL 45.90625 0 \nL 45.90625 32.71875 \nQ 45.90625 40.484375 42.875 44.328125 \nQ 39.84375 48.1875 33.796875 48.1875 \nQ 26.515625 48.1875 22.3125 43.546875 \nQ 18.109375 38.921875 18.109375 30.90625 \nL 18.109375 0 \nL 9.078125 0 \nL 9.078125 54.6875 \nL 18.109375 54.6875 \nL 18.109375 46.1875 \nQ 21.34375 51.125 25.703125 53.5625 \nQ 30.078125 56 35.796875 56 \nQ 45.21875 56 50.046875 50.171875 \nQ 54.890625 44.34375 54.890625 33.015625 \nz\n\" id=\"DejaVuSans-110\"/>\n       <path d=\"M 18.3125 70.21875 \nL 18.3125 54.6875 \nL 36.8125 54.6875 \nL 36.8125 47.703125 \nL 18.3125 47.703125 \nL 18.3125 18.015625 \nQ 18.3125 11.328125 20.140625 9.421875 \nQ 21.96875 7.515625 27.59375 7.515625 \nL 36.8125 7.515625 \nL 36.8125 0 \nL 27.59375 0 \nQ 17.1875 0 13.234375 3.875 \nQ 9.28125 7.765625 9.28125 18.015625 \nL 9.28125 47.703125 \nL 2.6875 47.703125 \nL 2.6875 54.6875 \nL 9.28125 54.6875 \nL 9.28125 70.21875 \nz\n\" id=\"DejaVuSans-116\"/>\n       <path d=\"M 54.890625 33.015625 \nL 54.890625 0 \nL 45.90625 0 \nL 45.90625 32.71875 \nQ 45.90625 40.484375 42.875 44.328125 \nQ 39.84375 48.1875 33.796875 48.1875 \nQ 26.515625 48.1875 22.3125 43.546875 \nQ 18.109375 38.921875 18.109375 30.90625 \nL 18.109375 0 \nL 9.078125 0 \nL 9.078125 75.984375 \nL 18.109375 75.984375 \nL 18.109375 46.1875 \nQ 21.34375 51.125 25.703125 53.5625 \nQ 30.078125 56 35.796875 56 \nQ 45.21875 56 50.046875 50.171875 \nQ 54.890625 44.34375 54.890625 33.015625 \nz\n\" id=\"DejaVuSans-104\"/>\n       <path d=\"M 48.78125 52.59375 \nL 48.78125 44.1875 \nQ 44.96875 46.296875 41.140625 47.34375 \nQ 37.3125 48.390625 33.40625 48.390625 \nQ 24.65625 48.390625 19.8125 42.84375 \nQ 14.984375 37.3125 14.984375 27.296875 \nQ 14.984375 17.28125 19.8125 11.734375 \nQ 24.65625 6.203125 33.40625 6.203125 \nQ 37.3125 6.203125 41.140625 7.25 \nQ 44.96875 8.296875 48.78125 10.40625 \nL 48.78125 2.09375 \nQ 45.015625 0.34375 40.984375 -0.53125 \nQ 36.96875 -1.421875 32.421875 -1.421875 \nQ 20.0625 -1.421875 12.78125 6.34375 \nQ 5.515625 14.109375 5.515625 27.296875 \nQ 5.515625 40.671875 12.859375 48.328125 \nQ 20.21875 56 33.015625 56 \nQ 37.15625 56 41.109375 55.140625 \nQ 45.0625 54.296875 48.78125 52.59375 \nz\n\" id=\"DejaVuSans-99\"/>\n       <path d=\"M 56.203125 29.59375 \nL 56.203125 25.203125 \nL 14.890625 25.203125 \nQ 15.484375 15.921875 20.484375 11.0625 \nQ 25.484375 6.203125 34.421875 6.203125 \nQ 39.59375 6.203125 44.453125 7.46875 \nQ 49.3125 8.734375 54.109375 11.28125 \nL 54.109375 2.78125 \nQ 49.265625 0.734375 44.1875 -0.34375 \nQ 39.109375 -1.421875 33.890625 -1.421875 \nQ 20.796875 -1.421875 13.15625 6.1875 \nQ 5.515625 13.8125 5.515625 26.8125 \nQ 5.515625 40.234375 12.765625 48.109375 \nQ 20.015625 56 32.328125 56 \nQ 43.359375 56 49.78125 48.890625 \nQ 56.203125 41.796875 56.203125 29.59375 \nz\nM 47.21875 32.234375 \nQ 47.125 39.59375 43.09375 43.984375 \nQ 39.0625 48.390625 32.421875 48.390625 \nQ 24.90625 48.390625 20.390625 44.140625 \nQ 15.875 39.890625 15.1875 32.171875 \nz\n\" id=\"DejaVuSans-101\"/>\n       <path d=\"M 2.984375 54.6875 \nL 12.5 54.6875 \nL 29.59375 8.796875 \nL 46.6875 54.6875 \nL 56.203125 54.6875 \nL 35.6875 0 \nL 23.484375 0 \nz\n\" id=\"DejaVuSans-118\"/>\n       <path d=\"M 8.5 21.578125 \nL 8.5 54.6875 \nL 17.484375 54.6875 \nL 17.484375 21.921875 \nQ 17.484375 14.15625 20.5 10.265625 \nQ 23.53125 6.390625 29.59375 6.390625 \nQ 36.859375 6.390625 41.078125 11.03125 \nQ 45.3125 15.671875 45.3125 23.6875 \nL 45.3125 54.6875 \nL 54.296875 54.6875 \nL 54.296875 0 \nL 45.3125 0 \nL 45.3125 8.40625 \nQ 42.046875 3.421875 37.71875 1 \nQ 33.40625 -1.421875 27.6875 -1.421875 \nQ 18.265625 -1.421875 13.375 4.4375 \nQ 8.5 10.296875 8.5 21.578125 \nz\nM 31.109375 56 \nz\n\" id=\"DejaVuSans-117\"/>\n      </defs>\n      <use xlink:href=\"#DejaVuSans-102\"/>\n      <use x=\"35.205078\" xlink:href=\"#DejaVuSans-97\"/>\n      <use x=\"96.484375\" xlink:href=\"#DejaVuSans-109\"/>\n      <use x=\"193.896484\" xlink:href=\"#DejaVuSans-105\"/>\n      <use x=\"221.679688\" xlink:href=\"#DejaVuSans-108\"/>\n      <use x=\"249.462891\" xlink:href=\"#DejaVuSans-121\"/>\n      <use x=\"308.642578\" xlink:href=\"#DejaVuSans-95\"/>\n      <use x=\"358.642578\" xlink:href=\"#DejaVuSans-109\"/>\n      <use x=\"456.054688\" xlink:href=\"#DejaVuSans-111\"/>\n      <use x=\"517.236328\" xlink:href=\"#DejaVuSans-110\"/>\n      <use x=\"580.615234\" xlink:href=\"#DejaVuSans-116\"/>\n      <use x=\"619.824219\" xlink:href=\"#DejaVuSans-104\"/>\n      <use x=\"683.203125\" xlink:href=\"#DejaVuSans-108\"/>\n      <use x=\"710.986328\" xlink:href=\"#DejaVuSans-121\"/>\n      <use x=\"770.166016\" xlink:href=\"#DejaVuSans-95\"/>\n      <use x=\"820.166016\" xlink:href=\"#DejaVuSans-105\"/>\n      <use x=\"847.949219\" xlink:href=\"#DejaVuSans-110\"/>\n      <use x=\"911.328125\" xlink:href=\"#DejaVuSans-99\"/>\n      <use x=\"966.308594\" xlink:href=\"#DejaVuSans-111\"/>\n      <use x=\"1027.490234\" xlink:href=\"#DejaVuSans-109\"/>\n      <use x=\"1124.902344\" xlink:href=\"#DejaVuSans-101\"/>\n      <use x=\"1186.425781\" xlink:href=\"#DejaVuSans-95\"/>\n      <use x=\"1236.425781\" xlink:href=\"#DejaVuSans-118\"/>\n      <use x=\"1295.605469\" xlink:href=\"#DejaVuSans-97\"/>\n      <use x=\"1356.884766\" xlink:href=\"#DejaVuSans-108\"/>\n      <use x=\"1384.667969\" xlink:href=\"#DejaVuSans-117\"/>\n      <use x=\"1448.046875\" xlink:href=\"#DejaVuSans-101\"/>\n     </g>\n    </g>\n   </g>\n  </g>\n </g>\n <defs>\n  <clipPath id=\"pb1d89b4862\">\n   <rect height=\"217.44\" width=\"334.8\" x=\"46.0125\" y=\"7.2\"/>\n  </clipPath>\n </defs>\n</svg>\n",
      "image/png": "[encoded data removed]"
     },
     "metadata": {
      "needs_background": "light"
     }
    }
   ],
   "source": [
    "df['family_monthly_income_value'].hist(bins=17, legend=True)"
   ]
  },
  {
   "source": [
    "Let's join ```left_elementary_school``` and ```left_high_school``` into a new column, given both indicate the person has left the school in the past"
   ],
   "cell_type": "markdown",
   "metadata": {}
  },
  {
   "cell_type": "code",
   "execution_count": 14,
   "metadata": {},
   "outputs": [
    {
     "output_type": "execute_result",
     "data": {
      "text/plain": [
       "                     city1  left_school\n",
       "0  NO_MUNICIPIO_RESIDENCIA         True\n",
       "1               RIO BRANCO        False\n",
       "2               RIO BRANCO        False\n",
       "3               RIO BRANCO         True\n",
       "4          CRUZEIRO DO SUL        False"
      ],
      "text/html": "<div>\n<style scoped>\n    .dataframe tbody tr th:only-of-type {\n        vertical-align: middle;\n    }\n\n    .dataframe tbody tr th {\n        vertical-align: top;\n    }\n\n    .dataframe thead th {\n        text-align: right;\n    }\n</style>\n<table border=\"1\" class=\"dataframe\">\n  <thead>\n    <tr style=\"text-align: right;\">\n      <th></th>\n      <th>city1</th>\n      <th>left_school</th>\n    </tr>\n  </thead>\n  <tbody>\n    <tr>\n      <th>0</th>\n      <td>NO_MUNICIPIO_RESIDENCIA</td>\n      <td>True</td>\n    </tr>\n    <tr>\n      <th>1</th>\n      <td>RIO BRANCO</td>\n      <td>False</td>\n    </tr>\n    <tr>\n      <th>2</th>\n      <td>RIO BRANCO</td>\n      <td>False</td>\n    </tr>\n    <tr>\n      <th>3</th>\n      <td>RIO BRANCO</td>\n      <td>True</td>\n    </tr>\n    <tr>\n      <th>4</th>\n      <td>CRUZEIRO DO SUL</td>\n      <td>False</td>\n    </tr>\n  </tbody>\n</table>\n</div>"
     },
     "metadata": {},
     "execution_count": 14
    }
   ],
   "source": [
    "df[\"left_school\"] = df.apply(lambda row: False if (row.left_elementary_school == \"A\" or row.left_high_school == \"A\") else True, axis=1)\n",
    "df[[\"city1\", \"left_school\"]].head()"
   ]
  },
  {
   "source": [
    "Let's see the dropout comparison"
   ],
   "cell_type": "markdown",
   "metadata": {}
  },
  {
   "cell_type": "code",
   "execution_count": 15,
   "metadata": {},
   "outputs": [
    {
     "output_type": "execute_result",
     "data": {
      "text/plain": [
       "<AxesSubplot:ylabel='city1'>"
      ]
     },
     "metadata": {},
     "execution_count": 15
    },
    {
     "output_type": "display_data",
     "data": {
      "text/plain": "<Figure size 432x288 with 1 Axes>",
      "image/svg+xml": "<?xml version=\"1.0\" encoding=\"utf-8\" standalone=\"no\"?>\n<!DOCTYPE svg PUBLIC \"-//W3C//DTD SVG 1.1//EN\"\n  \"http://www.w3.org/Graphics/SVG/1.1/DTD/svg11.dtd\">\n<!-- Created with matplotlib (https://matplotlib.org/) -->\n<svg height=\"231.84pt\" version=\"1.1\" viewBox=\"0 0 252.258857 231.84\" width=\"252.258857pt\" xmlns=\"http://www.w3.org/2000/svg\" xmlns:xlink=\"http://www.w3.org/1999/xlink\">\n <metadata>\n  <rdf:RDF xmlns:cc=\"http://creativecommons.org/ns#\" xmlns:dc=\"http://purl.org/dc/elements/1.1/\" xmlns:rdf=\"http://www.w3.org/1999/02/22-rdf-syntax-ns#\">\n   <cc:Work>\n    <dc:type rdf:resource=\"http://purl.org/dc/dcmitype/StillImage\"/>\n    <dc:date>2021-01-23T19:16:52.447541</dc:date>\n    <dc:format>image/svg+xml</dc:format>\n    <dc:creator>\n     <cc:Agent>\n      <dc:title>Matplotlib v3.3.3, https://matplotlib.org/</dc:title>\n     </cc:Agent>\n    </dc:creator>\n   </cc:Work>\n  </rdf:RDF>\n </metadata>\n <defs>\n  <style type=\"text/css\">*{stroke-linecap:butt;stroke-linejoin:round;}</style>\n </defs>\n <g id=\"figure_1\">\n  <g id=\"patch_1\">\n   <path d=\"M 0 231.84 \nL 252.258857 231.84 \nL 252.258857 0 \nL 0 0 \nz\n\" style=\"fill:none;\"/>\n  </g>\n  <g id=\"axes_1\">\n   <g id=\"patch_2\">\n    <path d=\"M 216.574125 115.92 \nC 216.574125 105.135279 214.568223 94.444032 210.658956 84.392771 \nC 206.74969 74.34151 201.004824 65.104469 193.718022 57.153825 \nC 186.431221 49.203181 177.728798 42.676754 168.055602 37.908161 \nC 158.382405 33.139567 147.906115 30.211469 137.162256 29.273543 \nC 126.418397 28.335617 115.593209 29.404122 105.24005 32.424439 \nC 94.886891 35.444755 85.185229 40.364527 76.63099 46.932268 \nC 68.076751 53.500008 60.81822 61.601868 55.226436 70.823699 \nC 49.634651 80.045529 45.806545 90.227475 43.9378 100.849057 \nC 42.069056 111.470639 42.192067 122.347738 44.300546 132.924341 \nC 46.409025 143.500944 50.466422 153.59371 56.265333 162.686721 \nC 62.064244 171.779732 69.504146 179.715364 78.20473 186.087966 \nC 86.905313 192.460569 96.715757 197.159674 107.134574 199.945076 \nC 117.553392 202.730479 128.399976 203.553893 139.119876 202.373229 \nC 149.839775 201.192565 160.247165 198.028289 169.810043 193.042151 \nC 179.372922 188.056013 187.92552 181.334446 195.03065 173.221041 \nC 202.13578 165.107635 207.670276 155.743034 211.351228 145.605934 \nL 129.598125 115.92 \nL 216.574125 115.92 \nz\n\" style=\"fill:#1f77b4;\"/>\n   </g>\n   <g id=\"patch_3\">\n    <path d=\"M 211.351228 145.605934 \nC 213.075645 140.857004 214.382999 135.966838 215.25845 130.990942 \nC 216.133901 126.015047 216.574125 120.972319 216.574125 115.919998 \nL 129.598125 115.92 \nL 211.351228 145.605934 \nz\n\" style=\"fill:#ff7f0e;\"/>\n   </g>\n   <g id=\"matplotlib.axis_1\"/>\n   <g id=\"matplotlib.axis_2\">\n    <g id=\"text_1\">\n     <!-- city1 -->\n     <g transform=\"translate(14.798437 128.159062)rotate(-90)scale(0.1 -0.1)\">\n      <defs>\n       <path d=\"M 48.78125 52.59375 \nL 48.78125 44.1875 \nQ 44.96875 46.296875 41.140625 47.34375 \nQ 37.3125 48.390625 33.40625 48.390625 \nQ 24.65625 48.390625 19.8125 42.84375 \nQ 14.984375 37.3125 14.984375 27.296875 \nQ 14.984375 17.28125 19.8125 11.734375 \nQ 24.65625 6.203125 33.40625 6.203125 \nQ 37.3125 6.203125 41.140625 7.25 \nQ 44.96875 8.296875 48.78125 10.40625 \nL 48.78125 2.09375 \nQ 45.015625 0.34375 40.984375 -0.53125 \nQ 36.96875 -1.421875 32.421875 -1.421875 \nQ 20.0625 -1.421875 12.78125 6.34375 \nQ 5.515625 14.109375 5.515625 27.296875 \nQ 5.515625 40.671875 12.859375 48.328125 \nQ 20.21875 56 33.015625 56 \nQ 37.15625 56 41.109375 55.140625 \nQ 45.0625 54.296875 48.78125 52.59375 \nz\n\" id=\"DejaVuSans-99\"/>\n       <path d=\"M 9.421875 54.6875 \nL 18.40625 54.6875 \nL 18.40625 0 \nL 9.421875 0 \nz\nM 9.421875 75.984375 \nL 18.40625 75.984375 \nL 18.40625 64.59375 \nL 9.421875 64.59375 \nz\n\" id=\"DejaVuSans-105\"/>\n       <path d=\"M 18.3125 70.21875 \nL 18.3125 54.6875 \nL 36.8125 54.6875 \nL 36.8125 47.703125 \nL 18.3125 47.703125 \nL 18.3125 18.015625 \nQ 18.3125 11.328125 20.140625 9.421875 \nQ 21.96875 7.515625 27.59375 7.515625 \nL 36.8125 7.515625 \nL 36.8125 0 \nL 27.59375 0 \nQ 17.1875 0 13.234375 3.875 \nQ 9.28125 7.765625 9.28125 18.015625 \nL 9.28125 47.703125 \nL 2.6875 47.703125 \nL 2.6875 54.6875 \nL 9.28125 54.6875 \nL 9.28125 70.21875 \nz\n\" id=\"DejaVuSans-116\"/>\n       <path d=\"M 32.171875 -5.078125 \nQ 28.375 -14.84375 24.75 -17.8125 \nQ 21.140625 -20.796875 15.09375 -20.796875 \nL 7.90625 -20.796875 \nL 7.90625 -13.28125 \nL 13.1875 -13.28125 \nQ 16.890625 -13.28125 18.9375 -11.515625 \nQ 21 -9.765625 23.484375 -3.21875 \nL 25.09375 0.875 \nL 2.984375 54.6875 \nL 12.5 54.6875 \nL 29.59375 11.921875 \nL 46.6875 54.6875 \nL 56.203125 54.6875 \nz\n\" id=\"DejaVuSans-121\"/>\n       <path d=\"M 12.40625 8.296875 \nL 28.515625 8.296875 \nL 28.515625 63.921875 \nL 10.984375 60.40625 \nL 10.984375 69.390625 \nL 28.421875 72.90625 \nL 38.28125 72.90625 \nL 38.28125 8.296875 \nL 54.390625 8.296875 \nL 54.390625 0 \nL 12.40625 0 \nz\n\" id=\"DejaVuSans-49\"/>\n      </defs>\n      <use xlink:href=\"#DejaVuSans-99\"/>\n      <use x=\"54.980469\" xlink:href=\"#DejaVuSans-105\"/>\n      <use x=\"82.763672\" xlink:href=\"#DejaVuSans-116\"/>\n      <use x=\"121.972656\" xlink:href=\"#DejaVuSans-121\"/>\n      <use x=\"181.152344\" xlink:href=\"#DejaVuSans-49\"/>\n     </g>\n    </g>\n   </g>\n   <g id=\"text_2\">\n    <!-- False -->\n    <g transform=\"translate(10.263955 102.101337)scale(0.1 -0.1)\">\n     <defs>\n      <path d=\"M 9.8125 72.90625 \nL 51.703125 72.90625 \nL 51.703125 64.59375 \nL 19.671875 64.59375 \nL 19.671875 43.109375 \nL 48.578125 43.109375 \nL 48.578125 34.8125 \nL 19.671875 34.8125 \nL 19.671875 0 \nL 9.8125 0 \nz\n\" id=\"DejaVuSans-70\"/>\n      <path d=\"M 34.28125 27.484375 \nQ 23.390625 27.484375 19.1875 25 \nQ 14.984375 22.515625 14.984375 16.5 \nQ 14.984375 11.71875 18.140625 8.90625 \nQ 21.296875 6.109375 26.703125 6.109375 \nQ 34.1875 6.109375 38.703125 11.40625 \nQ 43.21875 16.703125 43.21875 25.484375 \nL 43.21875 27.484375 \nz\nM 52.203125 31.203125 \nL 52.203125 0 \nL 43.21875 0 \nL 43.21875 8.296875 \nQ 40.140625 3.328125 35.546875 0.953125 \nQ 30.953125 -1.421875 24.3125 -1.421875 \nQ 15.921875 -1.421875 10.953125 3.296875 \nQ 6 8.015625 6 15.921875 \nQ 6 25.140625 12.171875 29.828125 \nQ 18.359375 34.515625 30.609375 34.515625 \nL 43.21875 34.515625 \nL 43.21875 35.40625 \nQ 43.21875 41.609375 39.140625 45 \nQ 35.0625 48.390625 27.6875 48.390625 \nQ 23 48.390625 18.546875 47.265625 \nQ 14.109375 46.140625 10.015625 43.890625 \nL 10.015625 52.203125 \nQ 14.9375 54.109375 19.578125 55.046875 \nQ 24.21875 56 28.609375 56 \nQ 40.484375 56 46.34375 49.84375 \nQ 52.203125 43.703125 52.203125 31.203125 \nz\n\" id=\"DejaVuSans-97\"/>\n      <path d=\"M 9.421875 75.984375 \nL 18.40625 75.984375 \nL 18.40625 0 \nL 9.421875 0 \nz\n\" id=\"DejaVuSans-108\"/>\n      <path d=\"M 44.28125 53.078125 \nL 44.28125 44.578125 \nQ 40.484375 46.53125 36.375 47.5 \nQ 32.28125 48.484375 27.875 48.484375 \nQ 21.1875 48.484375 17.84375 46.4375 \nQ 14.5 44.390625 14.5 40.28125 \nQ 14.5 37.15625 16.890625 35.375 \nQ 19.28125 33.59375 26.515625 31.984375 \nL 29.59375 31.296875 \nQ 39.15625 29.25 43.1875 25.515625 \nQ 47.21875 21.78125 47.21875 15.09375 \nQ 47.21875 7.46875 41.1875 3.015625 \nQ 35.15625 -1.421875 24.609375 -1.421875 \nQ 20.21875 -1.421875 15.453125 -0.5625 \nQ 10.6875 0.296875 5.421875 2 \nL 5.421875 11.28125 \nQ 10.40625 8.6875 15.234375 7.390625 \nQ 20.0625 6.109375 24.8125 6.109375 \nQ 31.15625 6.109375 34.5625 8.28125 \nQ 37.984375 10.453125 37.984375 14.40625 \nQ 37.984375 18.0625 35.515625 20.015625 \nQ 33.0625 21.96875 24.703125 23.78125 \nL 21.578125 24.515625 \nQ 13.234375 26.265625 9.515625 29.90625 \nQ 5.8125 33.546875 5.8125 39.890625 \nQ 5.8125 47.609375 11.28125 51.796875 \nQ 16.75 56 26.8125 56 \nQ 31.78125 56 36.171875 55.265625 \nQ 40.578125 54.546875 44.28125 53.078125 \nz\n\" id=\"DejaVuSans-115\"/>\n      <path d=\"M 56.203125 29.59375 \nL 56.203125 25.203125 \nL 14.890625 25.203125 \nQ 15.484375 15.921875 20.484375 11.0625 \nQ 25.484375 6.203125 34.421875 6.203125 \nQ 39.59375 6.203125 44.453125 7.46875 \nQ 49.3125 8.734375 54.109375 11.28125 \nL 54.109375 2.78125 \nQ 49.265625 0.734375 44.1875 -0.34375 \nQ 39.109375 -1.421875 33.890625 -1.421875 \nQ 20.796875 -1.421875 13.15625 6.1875 \nQ 5.515625 13.8125 5.515625 26.8125 \nQ 5.515625 40.234375 12.765625 48.109375 \nQ 20.015625 56 32.328125 56 \nQ 43.359375 56 49.78125 48.890625 \nQ 56.203125 41.796875 56.203125 29.59375 \nz\nM 47.21875 32.234375 \nQ 47.125 39.59375 43.09375 43.984375 \nQ 39.0625 48.390625 32.421875 48.390625 \nQ 24.90625 48.390625 20.390625 44.140625 \nQ 15.875 39.890625 15.1875 32.171875 \nz\n\" id=\"DejaVuSans-101\"/>\n     </defs>\n     <use xlink:href=\"#DejaVuSans-70\"/>\n     <use x=\"48.394531\" xlink:href=\"#DejaVuSans-97\"/>\n     <use x=\"109.673828\" xlink:href=\"#DejaVuSans-108\"/>\n     <use x=\"137.457031\" xlink:href=\"#DejaVuSans-115\"/>\n     <use x=\"189.556641\" xlink:href=\"#DejaVuSans-101\"/>\n    </g>\n   </g>\n   <g id=\"text_3\">\n    <!-- True -->\n    <g transform=\"translate(223.824482 135.257411)scale(0.1 -0.1)\">\n     <defs>\n      <path d=\"M -0.296875 72.90625 \nL 61.375 72.90625 \nL 61.375 64.59375 \nL 35.5 64.59375 \nL 35.5 0 \nL 25.59375 0 \nL 25.59375 64.59375 \nL -0.296875 64.59375 \nz\n\" id=\"DejaVuSans-84\"/>\n      <path d=\"M 41.109375 46.296875 \nQ 39.59375 47.171875 37.8125 47.578125 \nQ 36.03125 48 33.890625 48 \nQ 26.265625 48 22.1875 43.046875 \nQ 18.109375 38.09375 18.109375 28.8125 \nL 18.109375 0 \nL 9.078125 0 \nL 9.078125 54.6875 \nL 18.109375 54.6875 \nL 18.109375 46.1875 \nQ 20.953125 51.171875 25.484375 53.578125 \nQ 30.03125 56 36.53125 56 \nQ 37.453125 56 38.578125 55.875 \nQ 39.703125 55.765625 41.0625 55.515625 \nz\n\" id=\"DejaVuSans-114\"/>\n      <path d=\"M 8.5 21.578125 \nL 8.5 54.6875 \nL 17.484375 54.6875 \nL 17.484375 21.921875 \nQ 17.484375 14.15625 20.5 10.265625 \nQ 23.53125 6.390625 29.59375 6.390625 \nQ 36.859375 6.390625 41.078125 11.03125 \nQ 45.3125 15.671875 45.3125 23.6875 \nL 45.3125 54.6875 \nL 54.296875 54.6875 \nL 54.296875 0 \nL 45.3125 0 \nL 45.3125 8.40625 \nQ 42.046875 3.421875 37.71875 1 \nQ 33.40625 -1.421875 27.6875 -1.421875 \nQ 18.265625 -1.421875 13.375 4.4375 \nQ 8.5 10.296875 8.5 21.578125 \nz\nM 31.109375 56 \nz\n\" id=\"DejaVuSans-117\"/>\n     </defs>\n     <use xlink:href=\"#DejaVuSans-84\"/>\n     <use x=\"46.333984\" xlink:href=\"#DejaVuSans-114\"/>\n     <use x=\"87.447266\" xlink:href=\"#DejaVuSans-117\"/>\n     <use x=\"150.826172\" xlink:href=\"#DejaVuSans-101\"/>\n    </g>\n   </g>\n   <g id=\"legend_1\">\n    <g id=\"patch_4\">\n     <path d=\"M 174.210312 44.55625 \nL 231.318125 44.55625 \nQ 233.318125 44.55625 233.318125 42.55625 \nL 233.318125 14.2 \nQ 233.318125 12.2 231.318125 12.2 \nL 174.210312 12.2 \nQ 172.210312 12.2 172.210312 14.2 \nL 172.210312 42.55625 \nQ 172.210312 44.55625 174.210312 44.55625 \nz\n\" style=\"fill:#ffffff;opacity:0.8;stroke:#cccccc;stroke-linejoin:miter;\"/>\n    </g>\n    <g id=\"patch_5\">\n     <path d=\"M 176.210312 23.798437 \nL 196.210312 23.798437 \nL 196.210312 16.798437 \nL 176.210312 16.798437 \nz\n\" style=\"fill:#1f77b4;\"/>\n    </g>\n    <g id=\"text_4\">\n     <!-- False -->\n     <g transform=\"translate(204.210312 23.798437)scale(0.1 -0.1)\">\n      <use xlink:href=\"#DejaVuSans-70\"/>\n      <use x=\"48.394531\" xlink:href=\"#DejaVuSans-97\"/>\n      <use x=\"109.673828\" xlink:href=\"#DejaVuSans-108\"/>\n      <use x=\"137.457031\" xlink:href=\"#DejaVuSans-115\"/>\n      <use x=\"189.556641\" xlink:href=\"#DejaVuSans-101\"/>\n     </g>\n    </g>\n    <g id=\"patch_6\">\n     <path d=\"M 176.210312 38.476562 \nL 196.210312 38.476562 \nL 196.210312 31.476562 \nL 176.210312 31.476562 \nz\n\" style=\"fill:#ff7f0e;\"/>\n    </g>\n    <g id=\"text_5\">\n     <!-- True -->\n     <g transform=\"translate(204.210312 38.476562)scale(0.1 -0.1)\">\n      <use xlink:href=\"#DejaVuSans-84\"/>\n      <use x=\"46.333984\" xlink:href=\"#DejaVuSans-114\"/>\n      <use x=\"87.447266\" xlink:href=\"#DejaVuSans-117\"/>\n      <use x=\"150.826172\" xlink:href=\"#DejaVuSans-101\"/>\n     </g>\n    </g>\n   </g>\n  </g>\n </g>\n</svg>\n",
      "image/png": "[encoded data removed]"
     },
     "metadata": {}
    }
   ],
   "source": [
    "df.groupby([\"left_school\"]).count().plot.pie(y=\"city1\")"
   ]
  },
  {
   "source": [
    "df[\"left_school\"].sum() / df.shape[0]"
   ],
   "cell_type": "code",
   "metadata": {},
   "execution_count": 16,
   "outputs": [
    {
     "output_type": "execute_result",
     "data": {
      "text/plain": [
       "0.055435602166015494"
      ]
     },
     "metadata": {},
     "execution_count": 16
    }
   ]
  },
  {
   "source": [
    "We found 5,54% of the candidates have left school at least once in the past."
   ],
   "cell_type": "markdown",
   "metadata": {}
  },
  {
   "source": [
    "Let's create a function to wrap all this data manipulation we have so far. It'll be helpful given we have a data file for each state."
   ],
   "cell_type": "markdown",
   "metadata": {}
  },
  {
   "cell_type": "code",
   "execution_count": 19,
   "metadata": {},
   "outputs": [
    {
     "output_type": "execute_result",
     "data": {
      "text/plain": [
       "                         city1         state1    age family_people_count  \\\n",
       "0      NO_MUNICIPIO_RESIDENCIA  UF_RESIDENCIA  IDADE                Q004   \n",
       "1                       PALMAS             TO     18                   4   \n",
       "2                    ARAGUAINA             TO     46                   3   \n",
       "3                       PALMAS             TO     15                   5   \n",
       "4                    ARAGUAINA             TO     26                   3   \n",
       "...                        ...            ...    ...                 ...   \n",
       "57517                   FATIMA             TO   22.0                   4   \n",
       "57518                  PIRAQUE             TO   29.0                   3   \n",
       "57519               TAGUATINGA             TO   19.0                   2   \n",
       "57520                ARAGUAINA             TO   27.0                   2   \n",
       "57521                ARAGUAINA             TO   23.0                   3   \n",
       "\n",
       "      work_start_age  family_monthly_income_value  left_school  \n",
       "0               Q040                          NaN         True  \n",
       "1                 15                        678.0        False  \n",
       "2                 15                       2712.0        False  \n",
       "3                NaN                        678.0        False  \n",
       "4                 21                       1356.0        False  \n",
       "...              ...                          ...          ...  \n",
       "57517           18.0                        847.0        False  \n",
       "57518           18.0                        678.0        False  \n",
       "57519           15.0                        678.0        False  \n",
       "57520           16.0                        678.0        False  \n",
       "57521           20.0                        678.0        False  \n",
       "\n",
       "[57522 rows x 7 columns]"
      ],
      "text/html": "<div>\n<style scoped>\n    .dataframe tbody tr th:only-of-type {\n        vertical-align: middle;\n    }\n\n    .dataframe tbody tr th {\n        vertical-align: top;\n    }\n\n    .dataframe thead th {\n        text-align: right;\n    }\n</style>\n<table border=\"1\" class=\"dataframe\">\n  <thead>\n    <tr style=\"text-align: right;\">\n      <th></th>\n      <th>city1</th>\n      <th>state1</th>\n      <th>age</th>\n      <th>family_people_count</th>\n      <th>work_start_age</th>\n      <th>family_monthly_income_value</th>\n      <th>left_school</th>\n    </tr>\n  </thead>\n  <tbody>\n    <tr>\n      <th>0</th>\n      <td>NO_MUNICIPIO_RESIDENCIA</td>\n      <td>UF_RESIDENCIA</td>\n      <td>IDADE</td>\n      <td>Q004</td>\n      <td>Q040</td>\n      <td>NaN</td>\n      <td>True</td>\n    </tr>\n    <tr>\n      <th>1</th>\n      <td>PALMAS</td>\n      <td>TO</td>\n      <td>18</td>\n      <td>4</td>\n      <td>15</td>\n      <td>678.0</td>\n      <td>False</td>\n    </tr>\n    <tr>\n      <th>2</th>\n      <td>ARAGUAINA</td>\n      <td>TO</td>\n      <td>46</td>\n      <td>3</td>\n      <td>15</td>\n      <td>2712.0</td>\n      <td>False</td>\n    </tr>\n    <tr>\n      <th>3</th>\n      <td>PALMAS</td>\n      <td>TO</td>\n      <td>15</td>\n      <td>5</td>\n      <td>NaN</td>\n      <td>678.0</td>\n      <td>False</td>\n    </tr>\n    <tr>\n      <th>4</th>\n      <td>ARAGUAINA</td>\n      <td>TO</td>\n      <td>26</td>\n      <td>3</td>\n      <td>21</td>\n      <td>1356.0</td>\n      <td>False</td>\n    </tr>\n    <tr>\n      <th>...</th>\n      <td>...</td>\n      <td>...</td>\n      <td>...</td>\n      <td>...</td>\n      <td>...</td>\n      <td>...</td>\n      <td>...</td>\n    </tr>\n    <tr>\n      <th>57517</th>\n      <td>FATIMA</td>\n      <td>TO</td>\n      <td>22.0</td>\n      <td>4</td>\n      <td>18.0</td>\n      <td>847.0</td>\n      <td>False</td>\n    </tr>\n    <tr>\n      <th>57518</th>\n      <td>PIRAQUE</td>\n      <td>TO</td>\n      <td>29.0</td>\n      <td>3</td>\n      <td>18.0</td>\n      <td>678.0</td>\n      <td>False</td>\n    </tr>\n    <tr>\n      <th>57519</th>\n      <td>TAGUATINGA</td>\n      <td>TO</td>\n      <td>19.0</td>\n      <td>2</td>\n      <td>15.0</td>\n      <td>678.0</td>\n      <td>False</td>\n    </tr>\n    <tr>\n      <th>57520</th>\n      <td>ARAGUAINA</td>\n      <td>TO</td>\n      <td>27.0</td>\n      <td>2</td>\n      <td>16.0</td>\n      <td>678.0</td>\n      <td>False</td>\n    </tr>\n    <tr>\n      <th>57521</th>\n      <td>ARAGUAINA</td>\n      <td>TO</td>\n      <td>23.0</td>\n      <td>3</td>\n      <td>20.0</td>\n      <td>678.0</td>\n      <td>False</td>\n    </tr>\n  </tbody>\n</table>\n<p>57522 rows × 7 columns</p>\n</div>"
     },
     "metadata": {},
     "execution_count": 19
    }
   ],
   "source": [
    "def prepare_enem_dataset(filename):\n",
    "    columns = [\n",
    "        \"city1\",                            # candidate's city name\n",
    "        \"state1\",                           # candidate's state code\n",
    "        \"city2\",                            # candidate's city name\n",
    "        \"state2\",                           # candidate's state code\n",
    "        \"age\",                              # candidate's age\n",
    "        \"has_finished_high_school\",         # candidate has finished high school\n",
    "        \"school_type\",                      # candidate's school type (1 = public or 2 = private)\n",
    "        \"family_monthly_income\",            # candidate's family monthly income  \n",
    "        \"family_people_count\",              # number of people who lives with the candidate in the same house\n",
    "        \"left_elementary_school\",           # \"Q040 you left elementary school?\"\n",
    "        \"left_high_school\",                 # \"have you left high school?\"\n",
    "        \"work_start_age\",                   # \"how old were you when started working?\"\n",
    "        \"work_reason__help_parents\",        # \"I started working to help my parents\"\n",
    "        \"work_reason__support_family\",      # \"I started working to support my family\"\n",
    "        \"work_reason__be_independent\",      # \"I started working to be independent\"\n",
    "        \"work_reason__gain_experience\",     # \"I started working to gain experience\"\n",
    "        \"work_reason__afford_education\",    # \"I started working to afford my education\"\n",
    "        \"left_school_age\",                  # \"how old were you when left the school?\"\n",
    "    ]\n",
    "\n",
    "    df = pd.read_csv(filename, sep=\";\", names=columns)\n",
    "\n",
    "    def monthly_income(choice):\n",
    "        if choice == \"A\":\n",
    "            return 0\n",
    "        if choice == \"B\":\n",
    "            return 678\n",
    "        if choice == \"C\":\n",
    "            return 847\n",
    "        if choice == \"D\":\n",
    "            return 1017\n",
    "        if choice == \"E\":\n",
    "            return 1356\n",
    "        if choice == \"F\":\n",
    "            return 1695\n",
    "        if choice == \"G\":\n",
    "            return 2034\n",
    "        if choice == \"H\":\n",
    "            return 2712\n",
    "        if choice == \"I\":\n",
    "            return 3390\n",
    "        if choice == \"J\":\n",
    "            return 4068\n",
    "        if choice == \"K\":\n",
    "            return 4746\n",
    "        if choice == \"L\":\n",
    "            return 5424\n",
    "        if choice == \"M\":\n",
    "            return 6102\n",
    "        if choice == \"N\":\n",
    "            return 6780\n",
    "        if choice == \"O\":\n",
    "            return 8136\n",
    "        if choice == \"P\":\n",
    "            return 10170\n",
    "        if choice == \"Q\":\n",
    "            return 13560\n",
    "\n",
    "    df[\"family_monthly_income_value\"] = df.apply(lambda row: monthly_income(row.family_monthly_income), axis=1)\n",
    "    df[\"left_school\"] = df.apply(lambda row: False if (row.left_elementary_school == \"A\" or row.left_high_school == \"A\") else True, axis=1)\n",
    "\n",
    "    return df[[\"city1\", \"state1\", \"age\", \"family_people_count\", \"work_start_age\", \"family_monthly_income_value\", \"left_school\"]]\n",
    "\n",
    "prepare_enem_dataset(\"data-prepared/enem_2013_TO.csv\")"
   ]
  },
  {
   "source": [
    "This function will be defined in an external file for future use in other files."
   ],
   "cell_type": "markdown",
   "metadata": {}
  }
 ]
}